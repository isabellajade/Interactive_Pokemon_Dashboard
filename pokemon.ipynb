{
 "cells": [
  {
   "cell_type": "code",
   "execution_count": 1,
   "id": "3bf1f71f",
   "metadata": {},
   "outputs": [],
   "source": [
    "import json\n",
    "from pprint import pprint\n",
    "import requests"
   ]
  },
  {
   "cell_type": "code",
   "execution_count": 2,
   "id": "abc11c0e",
   "metadata": {},
   "outputs": [],
   "source": [
    "url = \"https://raw.githubusercontent.com/fanzeyi/pokemon.json/master/pokedex.json\""
   ]
  },
  {
   "cell_type": "code",
   "execution_count": 3,
   "id": "bac885a0",
   "metadata": {},
   "outputs": [],
   "source": [
    "response = requests.get(url)"
   ]
  },
  {
   "cell_type": "code",
   "execution_count": 4,
   "id": "536f3ea3",
   "metadata": {},
   "outputs": [],
   "source": [
    "# pprint(response.json())"
   ]
  },
  {
   "cell_type": "code",
   "execution_count": 5,
   "id": "7403479b",
   "metadata": {},
   "outputs": [],
   "source": [
    "pokemonData = response.json()"
   ]
  },
  {
   "cell_type": "code",
   "execution_count": 7,
   "id": "9cb4f682",
   "metadata": {},
   "outputs": [],
   "source": [
    "typeDict = {}\n",
    "for pokemon in pokemonData:\n",
    "    types = tuple(sorted(pokemon[\"type\"]))\n",
    "    typeDict[types] = typeDict.get(types,0) +1\n",
    "# pprint(typeDict)"
   ]
  },
  {
   "cell_type": "code",
   "execution_count": 8,
   "id": "3682c83b",
   "metadata": {},
   "outputs": [],
   "source": [
    "x = []\n",
    "y = []\n",
    "size = []\n",
    "for t,count in typeDict.items():\n",
    "    if len(t) == 2:\n",
    "        x.append(t[0])\n",
    "        y.append(t[1])\n",
    "    else:\n",
    "        x.append(t[0])\n",
    "        y.append(t[0])\n",
    "    size.append(count)"
   ]
  }
 ],
 "metadata": {
  "kernelspec": {
   "display_name": "PythonData",
   "language": "python",
   "name": "python3"
  },
  "language_info": {
   "codemirror_mode": {
    "name": "ipython",
    "version": 3
   },
   "file_extension": ".py",
   "mimetype": "text/x-python",
   "name": "python",
   "nbconvert_exporter": "python",
   "pygments_lexer": "ipython3",
   "version": "3.7.7"
  },
  "vscode": {
   "interpreter": {
    "hash": "8e1792ee52911687ef7055046af3de04f387c8691625aca45e7b3fd5004f3e7c"
   }
  }
 },
 "nbformat": 4,
 "nbformat_minor": 5
}
